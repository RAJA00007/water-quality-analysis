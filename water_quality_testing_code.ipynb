{
 "cells": [
  {
   "cell_type": "code",
   "execution_count": 5,
   "metadata": {},
   "outputs": [
    {
     "name": "stdout",
     "output_type": "stream",
     "text": [
      "Original Data:\n",
      "     ph  Hardness  Solids  Chloramines  Sulfate  Conductivity  Organic_carbon  \\\n",
      "0  1.0       150     350          3.0      250         40000             5.0   \n",
      "\n",
      "   Trihalomethanes  Turbidity  \n",
      "0               50        2.0  \n",
      "Scaled Data:\n",
      " [[ -4.13735032  -1.41049     -2.47102979  -2.60434935  -2.31827643\n",
      "  489.70361356  -2.80711395  -1.03988075  -2.52066986]]\n",
      "Prediction: Potable\n"
     ]
    }
   ],
   "source": [
    "import pickle\n",
    "import pandas as pd\n",
    "import numpy as np\n",
    "\n",
    "# Load the model and scaler from pickle files\n",
    "with open('naive_bayes_model.pkl', 'rb') as model_file:\n",
    "    nb_model_loaded = pickle.load(model_file)\n",
    "\n",
    "with open('scaler.pkl', 'rb') as scaler_file:\n",
    "    scaler_loaded = pickle.load(scaler_file)\n",
    "\n",
    "# Test example with ph = 1\n",
    "example_data = {\n",
    "    'ph': 1.0,\n",
    "    'Hardness': 150,\n",
    "    'Solids': 350,\n",
    "    'Chloramines': 3.0,\n",
    "    'Sulfate': 250,\n",
    "    'Conductivity': 40000,\n",
    "    'Organic_carbon': 5.0,\n",
    "    'Trihalomethanes': 50,\n",
    "    'Turbidity': 2.0\n",
    "}\n",
    "\n",
    "# Convert the example data to DataFrame\n",
    "example_df = pd.DataFrame([example_data])\n",
    "\n",
    "# Check the original values before scaling\n",
    "print(\"Original Data:\\n\", example_df)\n",
    "\n",
    "# Scale the data using the loaded scaler\n",
    "example_scaled = scaler_loaded.transform(example_df)\n",
    "\n",
    "# Print scaled values for debugging\n",
    "print(\"Scaled Data:\\n\", example_scaled)\n",
    "\n",
    "# Predict using the loaded model\n",
    "example_prediction = nb_model_loaded.predict(example_scaled)\n",
    "\n",
    "# Convert the prediction to a readable label\n",
    "potability = \"Potable\" if example_prediction[0] == 1 else \"Not Potable\"\n",
    "print(f\"Prediction: {potability}\")\n"
   ]
  }
 ],
 "metadata": {
  "kernelspec": {
   "display_name": "Python 3",
   "language": "python",
   "name": "python3"
  },
  "language_info": {
   "codemirror_mode": {
    "name": "ipython",
    "version": 3
   },
   "file_extension": ".py",
   "mimetype": "text/x-python",
   "name": "python",
   "nbconvert_exporter": "python",
   "pygments_lexer": "ipython3",
   "version": "3.12.2"
  }
 },
 "nbformat": 4,
 "nbformat_minor": 2
}
